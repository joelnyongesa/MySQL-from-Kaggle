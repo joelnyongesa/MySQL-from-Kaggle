{
 "cells": [
  {
   "cell_type": "markdown",
   "id": "298f2169",
   "metadata": {
    "papermill": {
     "duration": 0.006909,
     "end_time": "2022-08-25T07:18:54.064371",
     "exception": false,
     "start_time": "2022-08-25T07:18:54.057462",
     "status": "completed"
    },
    "tags": []
   },
   "source": [
    "**This notebook is an exercise in the [SQL](https://www.kaggle.com/learn/intro-to-sql) course.  You can reference the tutorial at [this link](https://www.kaggle.com/dansbecker/getting-started-with-sql-and-bigquery).**\n",
    "\n",
    "---\n"
   ]
  },
  {
   "cell_type": "markdown",
   "id": "ead6b3cb",
   "metadata": {
    "papermill": {
     "duration": 0.004937,
     "end_time": "2022-08-25T07:18:54.074637",
     "exception": false,
     "start_time": "2022-08-25T07:18:54.069700",
     "status": "completed"
    },
    "tags": []
   },
   "source": [
    "# Introduction\n",
    "\n",
    "The first test of your new data exploration skills uses data describing crime in the city of Chicago.\n",
    "\n",
    "Before you get started, run the following cell. It sets up the automated feedback system to review your answers."
   ]
  },
  {
   "cell_type": "code",
   "execution_count": 1,
   "id": "b917efce",
   "metadata": {
    "execution": {
     "iopub.execute_input": "2022-08-25T07:18:54.086967Z",
     "iopub.status.busy": "2022-08-25T07:18:54.086491Z",
     "iopub.status.idle": "2022-08-25T07:18:55.247689Z",
     "shell.execute_reply": "2022-08-25T07:18:55.246474Z"
    },
    "papermill": {
     "duration": 1.170611,
     "end_time": "2022-08-25T07:18:55.250391",
     "exception": false,
     "start_time": "2022-08-25T07:18:54.079780",
     "status": "completed"
    },
    "tags": []
   },
   "outputs": [
    {
     "name": "stdout",
     "output_type": "stream",
     "text": [
      "Using Kaggle's public dataset BigQuery integration.\n",
      "Setup Complete\n"
     ]
    }
   ],
   "source": [
    "# Set up feedack system\n",
    "from learntools.core import binder\n",
    "binder.bind(globals())\n",
    "from learntools.sql.ex1 import *\n",
    "print(\"Setup Complete\")"
   ]
  },
  {
   "cell_type": "markdown",
   "id": "de2d81a1",
   "metadata": {
    "papermill": {
     "duration": 0.005043,
     "end_time": "2022-08-25T07:18:55.260763",
     "exception": false,
     "start_time": "2022-08-25T07:18:55.255720",
     "status": "completed"
    },
    "tags": []
   },
   "source": [
    "Use the next code cell to fetch the dataset."
   ]
  },
  {
   "cell_type": "code",
   "execution_count": 2,
   "id": "d9c32c85",
   "metadata": {
    "execution": {
     "iopub.execute_input": "2022-08-25T07:18:55.273220Z",
     "iopub.status.busy": "2022-08-25T07:18:55.272753Z",
     "iopub.status.idle": "2022-08-25T07:18:55.629890Z",
     "shell.execute_reply": "2022-08-25T07:18:55.628897Z"
    },
    "papermill": {
     "duration": 0.366469,
     "end_time": "2022-08-25T07:18:55.632556",
     "exception": false,
     "start_time": "2022-08-25T07:18:55.266087",
     "status": "completed"
    },
    "tags": []
   },
   "outputs": [
    {
     "name": "stdout",
     "output_type": "stream",
     "text": [
      "Using Kaggle's public dataset BigQuery integration.\n"
     ]
    }
   ],
   "source": [
    "from google.cloud import bigquery\n",
    "\n",
    "# Create a \"Client\" object\n",
    "client = bigquery.Client()\n",
    "\n",
    "# Construct a reference to the \"chicago_crime\" dataset\n",
    "dataset_ref = client.dataset(\"chicago_crime\", project=\"bigquery-public-data\")\n",
    "\n",
    "# API request - fetch the dataset\n",
    "dataset = client.get_dataset(dataset_ref)"
   ]
  },
  {
   "cell_type": "markdown",
   "id": "7441468e",
   "metadata": {
    "papermill": {
     "duration": 0.005257,
     "end_time": "2022-08-25T07:18:55.643689",
     "exception": false,
     "start_time": "2022-08-25T07:18:55.638432",
     "status": "completed"
    },
    "tags": []
   },
   "source": [
    "# Exercises\n",
    "\n",
    "### 1) Count tables in the dataset\n",
    "\n",
    "How many tables are in the Chicago Crime dataset?"
   ]
  },
  {
   "cell_type": "code",
   "execution_count": 3,
   "id": "f06f45da",
   "metadata": {
    "execution": {
     "iopub.execute_input": "2022-08-25T07:18:55.656819Z",
     "iopub.status.busy": "2022-08-25T07:18:55.656343Z",
     "iopub.status.idle": "2022-08-25T07:18:56.051951Z",
     "shell.execute_reply": "2022-08-25T07:18:56.050454Z"
    },
    "papermill": {
     "duration": 0.405298,
     "end_time": "2022-08-25T07:18:56.054532",
     "exception": false,
     "start_time": "2022-08-25T07:18:55.649234",
     "status": "completed"
    },
    "tags": []
   },
   "outputs": [
    {
     "name": "stdout",
     "output_type": "stream",
     "text": [
      "crime\n"
     ]
    }
   ],
   "source": [
    "# Write the code you need here to figure out the answer\n",
    "tables = list(client.list_tables(dataset))\n",
    "for table in tables:\n",
    "    print(table.table_id)"
   ]
  },
  {
   "cell_type": "code",
   "execution_count": 4,
   "id": "7522fd3f",
   "metadata": {
    "execution": {
     "iopub.execute_input": "2022-08-25T07:18:56.067797Z",
     "iopub.status.busy": "2022-08-25T07:18:56.067056Z",
     "iopub.status.idle": "2022-08-25T07:18:56.079018Z",
     "shell.execute_reply": "2022-08-25T07:18:56.077799Z"
    },
    "papermill": {
     "duration": 0.021198,
     "end_time": "2022-08-25T07:18:56.081372",
     "exception": false,
     "start_time": "2022-08-25T07:18:56.060174",
     "status": "completed"
    },
    "tags": []
   },
   "outputs": [
    {
     "data": {
      "application/javascript": [
       "parent.postMessage({\"jupyterEvent\": \"custom.exercise_interaction\", \"data\": {\"outcomeType\": 1, \"valueTowardsCompletion\": 0.3333333333333333, \"interactionType\": 1, \"questionType\": 1, \"questionId\": \"1_CountTables\", \"learnToolsVersion\": \"0.3.4\", \"failureMessage\": \"\", \"exceptionClass\": \"\", \"trace\": \"\"}}, \"*\")"
      ],
      "text/plain": [
       "<IPython.core.display.Javascript object>"
      ]
     },
     "metadata": {},
     "output_type": "display_data"
    },
    {
     "data": {
      "text/markdown": [
       "<span style=\"color:#33cc33\">Correct</span>"
      ],
      "text/plain": [
       "Correct"
      ]
     },
     "metadata": {},
     "output_type": "display_data"
    }
   ],
   "source": [
    "num_tables = 1  # Store the answer as num_tables and then run this cell\n",
    "\n",
    "# Check your answer\n",
    "q_1.check()"
   ]
  },
  {
   "cell_type": "markdown",
   "id": "a05353b2",
   "metadata": {
    "papermill": {
     "duration": 0.005511,
     "end_time": "2022-08-25T07:18:56.092808",
     "exception": false,
     "start_time": "2022-08-25T07:18:56.087297",
     "status": "completed"
    },
    "tags": []
   },
   "source": [
    "For a hint or the solution, uncomment the appropriate line below."
   ]
  },
  {
   "cell_type": "code",
   "execution_count": 5,
   "id": "59eb6efa",
   "metadata": {
    "execution": {
     "iopub.execute_input": "2022-08-25T07:18:56.106450Z",
     "iopub.status.busy": "2022-08-25T07:18:56.105672Z",
     "iopub.status.idle": "2022-08-25T07:18:56.112961Z",
     "shell.execute_reply": "2022-08-25T07:18:56.112191Z"
    },
    "papermill": {
     "duration": 0.016486,
     "end_time": "2022-08-25T07:18:56.115092",
     "exception": false,
     "start_time": "2022-08-25T07:18:56.098606",
     "status": "completed"
    },
    "tags": []
   },
   "outputs": [
    {
     "data": {
      "application/javascript": [
       "parent.postMessage({\"jupyterEvent\": \"custom.exercise_interaction\", \"data\": {\"interactionType\": 3, \"questionType\": 1, \"questionId\": \"1_CountTables\", \"learnToolsVersion\": \"0.3.4\", \"valueTowardsCompletion\": 0.0, \"failureMessage\": \"\", \"exceptionClass\": \"\", \"trace\": \"\", \"outcomeType\": 4}}, \"*\")"
      ],
      "text/plain": [
       "<IPython.core.display.Javascript object>"
      ]
     },
     "metadata": {},
     "output_type": "display_data"
    },
    {
     "data": {
      "text/markdown": [
       "<span style=\"color:#33cc99\">Solution:</span> \n",
       "```python\n",
       "\n",
       "# List all the tables in the \"chicago_crime\" dataset\n",
       "tables = list(client.list_tables(dataset))\n",
       "\n",
       "# Print number of tables in the dataset\n",
       "print(len(tables))\n",
       "\n",
       "num_tables = 1\n",
       "\n",
       "```"
      ],
      "text/plain": [
       "Solution: \n",
       "```python\n",
       "\n",
       "# List all the tables in the \"chicago_crime\" dataset\n",
       "tables = list(client.list_tables(dataset))\n",
       "\n",
       "# Print number of tables in the dataset\n",
       "print(len(tables))\n",
       "\n",
       "num_tables = 1\n",
       "\n",
       "```"
      ]
     },
     "metadata": {},
     "output_type": "display_data"
    }
   ],
   "source": [
    "# q_1.hint()\n",
    "q_1.solution()"
   ]
  },
  {
   "cell_type": "markdown",
   "id": "a0cd7024",
   "metadata": {
    "papermill": {
     "duration": 0.005794,
     "end_time": "2022-08-25T07:18:56.126896",
     "exception": false,
     "start_time": "2022-08-25T07:18:56.121102",
     "status": "completed"
    },
    "tags": []
   },
   "source": [
    "### 2) Explore the table schema\n",
    "\n",
    "How many columns in the `crime` table have `TIMESTAMP` data?"
   ]
  },
  {
   "cell_type": "code",
   "execution_count": 6,
   "id": "d16d3654",
   "metadata": {
    "execution": {
     "iopub.execute_input": "2022-08-25T07:18:56.140880Z",
     "iopub.status.busy": "2022-08-25T07:18:56.140489Z",
     "iopub.status.idle": "2022-08-25T07:18:56.493932Z",
     "shell.execute_reply": "2022-08-25T07:18:56.492808Z"
    },
    "papermill": {
     "duration": 0.364123,
     "end_time": "2022-08-25T07:18:56.497181",
     "exception": false,
     "start_time": "2022-08-25T07:18:56.133058",
     "status": "completed"
    },
    "tags": []
   },
   "outputs": [
    {
     "name": "stdout",
     "output_type": "stream",
     "text": [
      "[SchemaField('unique_key', 'INTEGER', 'REQUIRED', None, (), None), SchemaField('case_number', 'STRING', 'NULLABLE', None, (), None), SchemaField('date', 'TIMESTAMP', 'NULLABLE', None, (), None), SchemaField('block', 'STRING', 'NULLABLE', None, (), None), SchemaField('iucr', 'STRING', 'NULLABLE', None, (), None), SchemaField('primary_type', 'STRING', 'NULLABLE', None, (), None), SchemaField('description', 'STRING', 'NULLABLE', None, (), None), SchemaField('location_description', 'STRING', 'NULLABLE', None, (), None), SchemaField('arrest', 'BOOLEAN', 'NULLABLE', None, (), None), SchemaField('domestic', 'BOOLEAN', 'NULLABLE', None, (), None), SchemaField('beat', 'INTEGER', 'NULLABLE', None, (), None), SchemaField('district', 'INTEGER', 'NULLABLE', None, (), None), SchemaField('ward', 'INTEGER', 'NULLABLE', None, (), None), SchemaField('community_area', 'INTEGER', 'NULLABLE', None, (), None), SchemaField('fbi_code', 'STRING', 'NULLABLE', None, (), None), SchemaField('x_coordinate', 'FLOAT', 'NULLABLE', None, (), None), SchemaField('y_coordinate', 'FLOAT', 'NULLABLE', None, (), None), SchemaField('year', 'INTEGER', 'NULLABLE', None, (), None), SchemaField('updated_on', 'TIMESTAMP', 'NULLABLE', None, (), None), SchemaField('latitude', 'FLOAT', 'NULLABLE', None, (), None), SchemaField('longitude', 'FLOAT', 'NULLABLE', None, (), None), SchemaField('location', 'STRING', 'NULLABLE', None, (), None)]\n"
     ]
    }
   ],
   "source": [
    "# Write the code to figure out the answer\n",
    "table_reference = dataset_ref.table(\"crime\")\n",
    "table = client.get_table(table_reference)\n",
    "print(table.schema)"
   ]
  },
  {
   "cell_type": "code",
   "execution_count": 7,
   "id": "57392d65",
   "metadata": {
    "execution": {
     "iopub.execute_input": "2022-08-25T07:18:56.514738Z",
     "iopub.status.busy": "2022-08-25T07:18:56.513418Z",
     "iopub.status.idle": "2022-08-25T07:18:56.525141Z",
     "shell.execute_reply": "2022-08-25T07:18:56.523896Z"
    },
    "papermill": {
     "duration": 0.022456,
     "end_time": "2022-08-25T07:18:56.527503",
     "exception": false,
     "start_time": "2022-08-25T07:18:56.505047",
     "status": "completed"
    },
    "tags": []
   },
   "outputs": [
    {
     "data": {
      "application/javascript": [
       "parent.postMessage({\"jupyterEvent\": \"custom.exercise_interaction\", \"data\": {\"outcomeType\": 1, \"valueTowardsCompletion\": 0.3333333333333333, \"interactionType\": 1, \"questionType\": 1, \"questionId\": \"2_CountTimestampFields\", \"learnToolsVersion\": \"0.3.4\", \"failureMessage\": \"\", \"exceptionClass\": \"\", \"trace\": \"\"}}, \"*\")"
      ],
      "text/plain": [
       "<IPython.core.display.Javascript object>"
      ]
     },
     "metadata": {},
     "output_type": "display_data"
    },
    {
     "data": {
      "text/markdown": [
       "<span style=\"color:#33cc33\">Correct</span>"
      ],
      "text/plain": [
       "Correct"
      ]
     },
     "metadata": {},
     "output_type": "display_data"
    }
   ],
   "source": [
    "num_timestamp_fields = 2 # Put your answer here\n",
    "\n",
    "# Check your answer\n",
    "q_2.check()"
   ]
  },
  {
   "cell_type": "markdown",
   "id": "58a20f8c",
   "metadata": {
    "papermill": {
     "duration": 0.006893,
     "end_time": "2022-08-25T07:18:56.540738",
     "exception": false,
     "start_time": "2022-08-25T07:18:56.533845",
     "status": "completed"
    },
    "tags": []
   },
   "source": [
    "For a hint or the solution, uncomment the appropriate line below."
   ]
  },
  {
   "cell_type": "code",
   "execution_count": 8,
   "id": "4691932f",
   "metadata": {
    "execution": {
     "iopub.execute_input": "2022-08-25T07:18:56.555187Z",
     "iopub.status.busy": "2022-08-25T07:18:56.554789Z",
     "iopub.status.idle": "2022-08-25T07:18:56.565422Z",
     "shell.execute_reply": "2022-08-25T07:18:56.564316Z"
    },
    "papermill": {
     "duration": 0.020566,
     "end_time": "2022-08-25T07:18:56.567676",
     "exception": false,
     "start_time": "2022-08-25T07:18:56.547110",
     "status": "completed"
    },
    "tags": []
   },
   "outputs": [
    {
     "data": {
      "application/javascript": [
       "parent.postMessage({\"jupyterEvent\": \"custom.exercise_interaction\", \"data\": {\"interactionType\": 3, \"questionType\": 1, \"questionId\": \"2_CountTimestampFields\", \"learnToolsVersion\": \"0.3.4\", \"valueTowardsCompletion\": 0.0, \"failureMessage\": \"\", \"exceptionClass\": \"\", \"trace\": \"\", \"outcomeType\": 4}}, \"*\")"
      ],
      "text/plain": [
       "<IPython.core.display.Javascript object>"
      ]
     },
     "metadata": {},
     "output_type": "display_data"
    },
    {
     "data": {
      "text/markdown": [
       "<span style=\"color:#33cc99\">Solution:</span> \n",
       "```python\n",
       "\n",
       "# Construct a reference to the \"crime\" table\n",
       "table_ref = dataset_ref.table(\"crime\")\n",
       "\n",
       "# API request - fetch the table\n",
       "table = client.get_table(table_ref)\n",
       "\n",
       "# Print information on all the columns in the \"crime\" table in the \"chicago_crime\" dataset\n",
       "print(table.schema)\n",
       "\n",
       "num_timestamp_fields = 2\n",
       "\n",
       "```"
      ],
      "text/plain": [
       "Solution: \n",
       "```python\n",
       "\n",
       "# Construct a reference to the \"crime\" table\n",
       "table_ref = dataset_ref.table(\"crime\")\n",
       "\n",
       "# API request - fetch the table\n",
       "table = client.get_table(table_ref)\n",
       "\n",
       "# Print information on all the columns in the \"crime\" table in the \"chicago_crime\" dataset\n",
       "print(table.schema)\n",
       "\n",
       "num_timestamp_fields = 2\n",
       "\n",
       "```"
      ]
     },
     "metadata": {},
     "output_type": "display_data"
    }
   ],
   "source": [
    "# q_2.hint()\n",
    "q_2.solution()"
   ]
  },
  {
   "cell_type": "markdown",
   "id": "59e275d3",
   "metadata": {
    "papermill": {
     "duration": 0.006064,
     "end_time": "2022-08-25T07:18:56.580048",
     "exception": false,
     "start_time": "2022-08-25T07:18:56.573984",
     "status": "completed"
    },
    "tags": []
   },
   "source": [
    "### 3) Create a crime map\n",
    "\n",
    "If you wanted to create a map with a dot at the location of each crime, what are the names of the two fields you likely need to pull out of the `crime` table to plot the crimes on a map?"
   ]
  },
  {
   "cell_type": "code",
   "execution_count": 9,
   "id": "dbc0870c",
   "metadata": {
    "execution": {
     "iopub.execute_input": "2022-08-25T07:18:56.594418Z",
     "iopub.status.busy": "2022-08-25T07:18:56.594023Z",
     "iopub.status.idle": "2022-08-25T07:18:56.598771Z",
     "shell.execute_reply": "2022-08-25T07:18:56.597701Z"
    },
    "papermill": {
     "duration": 0.014587,
     "end_time": "2022-08-25T07:18:56.600857",
     "exception": false,
     "start_time": "2022-08-25T07:18:56.586270",
     "status": "completed"
    },
    "tags": []
   },
   "outputs": [],
   "source": [
    "# Write the code here to explore the data so you can find the answer\n"
   ]
  },
  {
   "cell_type": "code",
   "execution_count": 10,
   "id": "429a257f",
   "metadata": {
    "execution": {
     "iopub.execute_input": "2022-08-25T07:18:56.615935Z",
     "iopub.status.busy": "2022-08-25T07:18:56.614637Z",
     "iopub.status.idle": "2022-08-25T07:18:56.624566Z",
     "shell.execute_reply": "2022-08-25T07:18:56.623609Z"
    },
    "papermill": {
     "duration": 0.019716,
     "end_time": "2022-08-25T07:18:56.626788",
     "exception": false,
     "start_time": "2022-08-25T07:18:56.607072",
     "status": "completed"
    },
    "tags": []
   },
   "outputs": [
    {
     "data": {
      "application/javascript": [
       "parent.postMessage({\"jupyterEvent\": \"custom.exercise_interaction\", \"data\": {\"outcomeType\": 1, \"valueTowardsCompletion\": 0.3333333333333333, \"interactionType\": 1, \"questionType\": 2, \"questionId\": \"3_IdentifyFieldsForPlotting\", \"learnToolsVersion\": \"0.3.4\", \"failureMessage\": \"\", \"exceptionClass\": \"\", \"trace\": \"\"}}, \"*\")"
      ],
      "text/plain": [
       "<IPython.core.display.Javascript object>"
      ]
     },
     "metadata": {},
     "output_type": "display_data"
    },
    {
     "data": {
      "text/markdown": [
       "<span style=\"color:#33cc33\">Correct</span>"
      ],
      "text/plain": [
       "Correct"
      ]
     },
     "metadata": {},
     "output_type": "display_data"
    }
   ],
   "source": [
    "fields_for_plotting = ['latitude', 'longitude'] # Put your answers here\n",
    "\n",
    "# Check your answer\n",
    "q_3.check()"
   ]
  },
  {
   "cell_type": "markdown",
   "id": "d9d83f0d",
   "metadata": {
    "papermill": {
     "duration": 0.006278,
     "end_time": "2022-08-25T07:18:56.639566",
     "exception": false,
     "start_time": "2022-08-25T07:18:56.633288",
     "status": "completed"
    },
    "tags": []
   },
   "source": [
    "For a hint or the solution, uncomment the appropriate line below."
   ]
  },
  {
   "cell_type": "code",
   "execution_count": 11,
   "id": "ddbdbeeb",
   "metadata": {
    "execution": {
     "iopub.execute_input": "2022-08-25T07:18:56.654568Z",
     "iopub.status.busy": "2022-08-25T07:18:56.653672Z",
     "iopub.status.idle": "2022-08-25T07:18:56.661652Z",
     "shell.execute_reply": "2022-08-25T07:18:56.660442Z"
    },
    "papermill": {
     "duration": 0.0178,
     "end_time": "2022-08-25T07:18:56.663798",
     "exception": false,
     "start_time": "2022-08-25T07:18:56.645998",
     "status": "completed"
    },
    "tags": []
   },
   "outputs": [
    {
     "data": {
      "application/javascript": [
       "parent.postMessage({\"jupyterEvent\": \"custom.exercise_interaction\", \"data\": {\"interactionType\": 2, \"questionType\": 2, \"questionId\": \"3_IdentifyFieldsForPlotting\", \"learnToolsVersion\": \"0.3.4\", \"valueTowardsCompletion\": 0.0, \"failureMessage\": \"\", \"exceptionClass\": \"\", \"trace\": \"\", \"outcomeType\": 4}}, \"*\")"
      ],
      "text/plain": [
       "<IPython.core.display.Javascript object>"
      ]
     },
     "metadata": {},
     "output_type": "display_data"
    },
    {
     "data": {
      "text/markdown": [
       "<span style=\"color:#3366cc\">Hint:</span> Look at the table schema.  There are a couple options, but two of the fields are things commonly used to plot on maps. Both are `'FLOAT'` types. Use quotes around the field names in your answer."
      ],
      "text/plain": [
       "Hint: Look at the table schema.  There are a couple options, but two of the fields are things commonly used to plot on maps. Both are `'FLOAT'` types. Use quotes around the field names in your answer."
      ]
     },
     "metadata": {},
     "output_type": "display_data"
    }
   ],
   "source": [
    "q_3.hint()\n",
    "# q_3.solution()"
   ]
  },
  {
   "cell_type": "markdown",
   "id": "ce6fb2c7",
   "metadata": {
    "papermill": {
     "duration": 0.006595,
     "end_time": "2022-08-25T07:18:56.677353",
     "exception": false,
     "start_time": "2022-08-25T07:18:56.670758",
     "status": "completed"
    },
    "tags": []
   },
   "source": [
    "Thinking about the question above, there are a few columns that appear to have geographic data. Look at a few values (with the `list_rows()` command) to see if you can determine their relationship.  Two columns will still be hard to interpret. But it should be obvious how the `location` column relates to `latitude` and `longitude`."
   ]
  },
  {
   "cell_type": "code",
   "execution_count": 12,
   "id": "7de95a84",
   "metadata": {
    "execution": {
     "iopub.execute_input": "2022-08-25T07:18:56.694009Z",
     "iopub.status.busy": "2022-08-25T07:18:56.693376Z",
     "iopub.status.idle": "2022-08-25T07:18:56.697110Z",
     "shell.execute_reply": "2022-08-25T07:18:56.696290Z"
    },
    "papermill": {
     "duration": 0.014129,
     "end_time": "2022-08-25T07:18:56.699269",
     "exception": false,
     "start_time": "2022-08-25T07:18:56.685140",
     "status": "completed"
    },
    "tags": []
   },
   "outputs": [],
   "source": [
    "# Scratch space for your code"
   ]
  },
  {
   "cell_type": "markdown",
   "id": "d346ace1",
   "metadata": {
    "papermill": {
     "duration": 0.006503,
     "end_time": "2022-08-25T07:18:56.712666",
     "exception": false,
     "start_time": "2022-08-25T07:18:56.706163",
     "status": "completed"
    },
    "tags": []
   },
   "source": [
    "# Keep going\n",
    "\n",
    "You've looked at the schema, but you haven't yet done anything exciting with the data itself. Things get more interesting when you get to the data, so keep going to **[write your first SQL query](https://www.kaggle.com/dansbecker/select-from-where).**"
   ]
  },
  {
   "cell_type": "markdown",
   "id": "d187265b",
   "metadata": {
    "papermill": {
     "duration": 0.006603,
     "end_time": "2022-08-25T07:18:56.726119",
     "exception": false,
     "start_time": "2022-08-25T07:18:56.719516",
     "status": "completed"
    },
    "tags": []
   },
   "source": [
    "---\n",
    "\n",
    "\n",
    "\n",
    "\n",
    "*Have questions or comments? Visit the [course discussion forum](https://www.kaggle.com/learn/intro-to-sql/discussion) to chat with other learners.*"
   ]
  }
 ],
 "metadata": {
  "kernelspec": {
   "display_name": "Python 3",
   "language": "python",
   "name": "python3"
  },
  "language_info": {
   "codemirror_mode": {
    "name": "ipython",
    "version": 3
   },
   "file_extension": ".py",
   "mimetype": "text/x-python",
   "name": "python",
   "nbconvert_exporter": "python",
   "pygments_lexer": "ipython3",
   "version": "3.7.12"
  },
  "papermill": {
   "default_parameters": {},
   "duration": 12.744013,
   "end_time": "2022-08-25T07:18:57.355124",
   "environment_variables": {},
   "exception": null,
   "input_path": "__notebook__.ipynb",
   "output_path": "__notebook__.ipynb",
   "parameters": {},
   "start_time": "2022-08-25T07:18:44.611111",
   "version": "2.3.4"
  }
 },
 "nbformat": 4,
 "nbformat_minor": 5
}
