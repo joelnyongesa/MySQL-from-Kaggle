{
 "cells": [
  {
   "cell_type": "markdown",
   "id": "05f8eef6",
   "metadata": {
    "papermill": {
     "duration": 0.005218,
     "end_time": "2022-08-25T09:15:01.816097",
     "exception": false,
     "start_time": "2022-08-25T09:15:01.810879",
     "status": "completed"
    },
    "tags": []
   },
   "source": [
    "**This notebook is an exercise in the [SQL](https://www.kaggle.com/learn/intro-to-sql) course.  You can reference the tutorial at [this link](https://www.kaggle.com/dansbecker/order-by).**\n",
    "\n",
    "---\n"
   ]
  },
  {
   "cell_type": "markdown",
   "id": "e1cc64ec",
   "metadata": {
    "papermill": {
     "duration": 0.003675,
     "end_time": "2022-08-25T09:15:01.824064",
     "exception": false,
     "start_time": "2022-08-25T09:15:01.820389",
     "status": "completed"
    },
    "tags": []
   },
   "source": [
    "# Introduction\n",
    "\n",
    "You've built up your SQL skills enough that the remaining hands-on exercises will use different datasets than you see in the explanations. If you need to get to know a new dataset, you can run a couple of **SELECT** queries to extract and review the data you need. \n",
    "\n",
    "The next exercises are also more challenging than what you've done so far. Don't worry, you are ready for it!\n",
    "\n",
    "Run the code in the following cell to get everything set up:"
   ]
  },
  {
   "cell_type": "code",
   "execution_count": 1,
   "id": "fbe50546",
   "metadata": {
    "execution": {
     "iopub.execute_input": "2022-08-25T09:15:01.835433Z",
     "iopub.status.busy": "2022-08-25T09:15:01.834538Z",
     "iopub.status.idle": "2022-08-25T09:15:04.008919Z",
     "shell.execute_reply": "2022-08-25T09:15:04.007574Z"
    },
    "papermill": {
     "duration": 2.184283,
     "end_time": "2022-08-25T09:15:04.012344",
     "exception": false,
     "start_time": "2022-08-25T09:15:01.828061",
     "status": "completed"
    },
    "tags": []
   },
   "outputs": [
    {
     "name": "stdout",
     "output_type": "stream",
     "text": [
      "Using Kaggle's public dataset BigQuery integration.\n"
     ]
    },
    {
     "name": "stderr",
     "output_type": "stream",
     "text": [
      "/opt/conda/lib/python3.7/site-packages/google/cloud/bigquery/client.py:440: UserWarning: Cannot create BigQuery Storage client, the dependency google-cloud-bigquery-storage is not installed.\n",
      "  \"Cannot create BigQuery Storage client, the dependency \"\n"
     ]
    },
    {
     "name": "stdout",
     "output_type": "stream",
     "text": [
      "Setup Complete\n"
     ]
    }
   ],
   "source": [
    "# Set up feedback system\n",
    "from learntools.core import binder\n",
    "binder.bind(globals())\n",
    "from learntools.sql.ex4 import *\n",
    "print(\"Setup Complete\")"
   ]
  },
  {
   "cell_type": "markdown",
   "id": "e906d6c2",
   "metadata": {
    "papermill": {
     "duration": 0.004371,
     "end_time": "2022-08-25T09:15:04.022813",
     "exception": false,
     "start_time": "2022-08-25T09:15:04.018442",
     "status": "completed"
    },
    "tags": []
   },
   "source": [
    "The World Bank has made tons of interesting education data available through BigQuery. Run the following cell to see the first few rows of the `international_education` table from the `world_bank_intl_education` dataset."
   ]
  },
  {
   "cell_type": "code",
   "execution_count": 2,
   "id": "33dfb7c4",
   "metadata": {
    "execution": {
     "iopub.execute_input": "2022-08-25T09:15:04.035056Z",
     "iopub.status.busy": "2022-08-25T09:15:04.033680Z",
     "iopub.status.idle": "2022-08-25T09:15:36.714759Z",
     "shell.execute_reply": "2022-08-25T09:15:36.713559Z"
    },
    "papermill": {
     "duration": 32.695303,
     "end_time": "2022-08-25T09:15:36.722534",
     "exception": false,
     "start_time": "2022-08-25T09:15:04.027231",
     "status": "completed"
    },
    "tags": []
   },
   "outputs": [
    {
     "name": "stdout",
     "output_type": "stream",
     "text": [
      "Using Kaggle's public dataset BigQuery integration.\n"
     ]
    },
    {
     "name": "stderr",
     "output_type": "stream",
     "text": [
      "/opt/conda/lib/python3.7/site-packages/ipykernel_launcher.py:19: UserWarning: Cannot use bqstorage_client if max_results is set, reverting to fetching data with the tabledata.list endpoint.\n"
     ]
    },
    {
     "data": {
      "text/html": [
       "<div>\n",
       "<style scoped>\n",
       "    .dataframe tbody tr th:only-of-type {\n",
       "        vertical-align: middle;\n",
       "    }\n",
       "\n",
       "    .dataframe tbody tr th {\n",
       "        vertical-align: top;\n",
       "    }\n",
       "\n",
       "    .dataframe thead th {\n",
       "        text-align: right;\n",
       "    }\n",
       "</style>\n",
       "<table border=\"1\" class=\"dataframe\">\n",
       "  <thead>\n",
       "    <tr style=\"text-align: right;\">\n",
       "      <th></th>\n",
       "      <th>country_name</th>\n",
       "      <th>country_code</th>\n",
       "      <th>indicator_name</th>\n",
       "      <th>indicator_code</th>\n",
       "      <th>value</th>\n",
       "      <th>year</th>\n",
       "    </tr>\n",
       "  </thead>\n",
       "  <tbody>\n",
       "    <tr>\n",
       "      <th>0</th>\n",
       "      <td>Chad</td>\n",
       "      <td>TCD</td>\n",
       "      <td>Enrolment in lower secondary education, both s...</td>\n",
       "      <td>UIS.E.2</td>\n",
       "      <td>170052.00000</td>\n",
       "      <td>2004</td>\n",
       "    </tr>\n",
       "    <tr>\n",
       "      <th>1</th>\n",
       "      <td>Chad</td>\n",
       "      <td>TCD</td>\n",
       "      <td>Enrolment in lower secondary education, both s...</td>\n",
       "      <td>UIS.E.2</td>\n",
       "      <td>306639.00000</td>\n",
       "      <td>2010</td>\n",
       "    </tr>\n",
       "    <tr>\n",
       "      <th>2</th>\n",
       "      <td>Chad</td>\n",
       "      <td>TCD</td>\n",
       "      <td>Enrolment in lower secondary education, both s...</td>\n",
       "      <td>UIS.E.2</td>\n",
       "      <td>268384.00000</td>\n",
       "      <td>2008</td>\n",
       "    </tr>\n",
       "    <tr>\n",
       "      <th>3</th>\n",
       "      <td>Chad</td>\n",
       "      <td>TCD</td>\n",
       "      <td>Enrolment in lower secondary education, both s...</td>\n",
       "      <td>UIS.E.2</td>\n",
       "      <td>121134.00000</td>\n",
       "      <td>2001</td>\n",
       "    </tr>\n",
       "    <tr>\n",
       "      <th>4</th>\n",
       "      <td>Chad</td>\n",
       "      <td>TCD</td>\n",
       "      <td>Enrolment in lower secondary education, both s...</td>\n",
       "      <td>UIS.E.2</td>\n",
       "      <td>181979.00000</td>\n",
       "      <td>2005</td>\n",
       "    </tr>\n",
       "    <tr>\n",
       "      <th>...</th>\n",
       "      <td>...</td>\n",
       "      <td>...</td>\n",
       "      <td>...</td>\n",
       "      <td>...</td>\n",
       "      <td>...</td>\n",
       "      <td>...</td>\n",
       "    </tr>\n",
       "    <tr>\n",
       "      <th>499995</th>\n",
       "      <td>Zimbabwe</td>\n",
       "      <td>ZWE</td>\n",
       "      <td>School life expectancy, primary and lower seco...</td>\n",
       "      <td>UIS.SLE.12</td>\n",
       "      <td>8.53994</td>\n",
       "      <td>2013</td>\n",
       "    </tr>\n",
       "    <tr>\n",
       "      <th>499996</th>\n",
       "      <td>Zimbabwe</td>\n",
       "      <td>ZWE</td>\n",
       "      <td>School life expectancy, primary and lower seco...</td>\n",
       "      <td>UIS.SLE.12</td>\n",
       "      <td>8.54647</td>\n",
       "      <td>2001</td>\n",
       "    </tr>\n",
       "    <tr>\n",
       "      <th>499997</th>\n",
       "      <td>Zimbabwe</td>\n",
       "      <td>ZWE</td>\n",
       "      <td>School life expectancy, secondary, both sexes ...</td>\n",
       "      <td>UIS.SLE.23</td>\n",
       "      <td>0.45080</td>\n",
       "      <td>1979</td>\n",
       "    </tr>\n",
       "    <tr>\n",
       "      <th>499998</th>\n",
       "      <td>Zimbabwe</td>\n",
       "      <td>ZWE</td>\n",
       "      <td>School life expectancy, secondary, both sexes ...</td>\n",
       "      <td>UIS.SLE.23</td>\n",
       "      <td>2.55549</td>\n",
       "      <td>2000</td>\n",
       "    </tr>\n",
       "    <tr>\n",
       "      <th>499999</th>\n",
       "      <td>Zimbabwe</td>\n",
       "      <td>ZWE</td>\n",
       "      <td>School life expectancy, secondary, both sexes ...</td>\n",
       "      <td>UIS.SLE.23</td>\n",
       "      <td>0.44288</td>\n",
       "      <td>1970</td>\n",
       "    </tr>\n",
       "  </tbody>\n",
       "</table>\n",
       "<p>500000 rows × 6 columns</p>\n",
       "</div>"
      ],
      "text/plain": [
       "       country_name country_code  \\\n",
       "0              Chad          TCD   \n",
       "1              Chad          TCD   \n",
       "2              Chad          TCD   \n",
       "3              Chad          TCD   \n",
       "4              Chad          TCD   \n",
       "...             ...          ...   \n",
       "499995     Zimbabwe          ZWE   \n",
       "499996     Zimbabwe          ZWE   \n",
       "499997     Zimbabwe          ZWE   \n",
       "499998     Zimbabwe          ZWE   \n",
       "499999     Zimbabwe          ZWE   \n",
       "\n",
       "                                           indicator_name indicator_code  \\\n",
       "0       Enrolment in lower secondary education, both s...        UIS.E.2   \n",
       "1       Enrolment in lower secondary education, both s...        UIS.E.2   \n",
       "2       Enrolment in lower secondary education, both s...        UIS.E.2   \n",
       "3       Enrolment in lower secondary education, both s...        UIS.E.2   \n",
       "4       Enrolment in lower secondary education, both s...        UIS.E.2   \n",
       "...                                                   ...            ...   \n",
       "499995  School life expectancy, primary and lower seco...     UIS.SLE.12   \n",
       "499996  School life expectancy, primary and lower seco...     UIS.SLE.12   \n",
       "499997  School life expectancy, secondary, both sexes ...     UIS.SLE.23   \n",
       "499998  School life expectancy, secondary, both sexes ...     UIS.SLE.23   \n",
       "499999  School life expectancy, secondary, both sexes ...     UIS.SLE.23   \n",
       "\n",
       "               value  year  \n",
       "0       170052.00000  2004  \n",
       "1       306639.00000  2010  \n",
       "2       268384.00000  2008  \n",
       "3       121134.00000  2001  \n",
       "4       181979.00000  2005  \n",
       "...              ...   ...  \n",
       "499995       8.53994  2013  \n",
       "499996       8.54647  2001  \n",
       "499997       0.45080  1979  \n",
       "499998       2.55549  2000  \n",
       "499999       0.44288  1970  \n",
       "\n",
       "[500000 rows x 6 columns]"
      ]
     },
     "execution_count": 2,
     "metadata": {},
     "output_type": "execute_result"
    }
   ],
   "source": [
    "from google.cloud import bigquery\n",
    "\n",
    "# Create a \"Client\" object\n",
    "client = bigquery.Client()\n",
    "\n",
    "# Construct a reference to the \"world_bank_intl_education\" dataset\n",
    "dataset_ref = client.dataset(\"world_bank_intl_education\", project=\"bigquery-public-data\")\n",
    "\n",
    "# API request - fetch the dataset\n",
    "dataset = client.get_dataset(dataset_ref)\n",
    "\n",
    "# Construct a reference to the \"international_education\" table\n",
    "table_ref = dataset_ref.table(\"international_education\")\n",
    "\n",
    "# API request - fetch the table\n",
    "table = client.get_table(table_ref)\n",
    "\n",
    "# Preview the first five lines of the \"international_education\" table\n",
    "client.list_rows(table, max_results=500000).to_dataframe()"
   ]
  },
  {
   "cell_type": "markdown",
   "id": "40b6af99",
   "metadata": {
    "papermill": {
     "duration": 0.004819,
     "end_time": "2022-08-25T09:15:36.732096",
     "exception": false,
     "start_time": "2022-08-25T09:15:36.727277",
     "status": "completed"
    },
    "tags": []
   },
   "source": [
    "# Exercises\n",
    "\n",
    "The value in the `indicator_code` column describes what type of data is shown in a given row.  \n",
    "\n",
    "One interesting indicator code is `SE.XPD.TOTL.GD.ZS`, which corresponds to \"Government expenditure on education as % of GDP (%)\".\n",
    "\n",
    "### 1) Government expenditure on education\n",
    "\n",
    "Which countries spend the largest fraction of GDP on education?  \n",
    "\n",
    "To answer this question, consider only the rows in the dataset corresponding to indicator code `SE.XPD.TOTL.GD.ZS`, and write a query that returns the average value in the `value` column for each country in the dataset between the years 2010-2017 (including 2010 and 2017 in the average). \n",
    "\n",
    "Requirements:\n",
    "- Your results should have the country name rather than the country code. You will have one row for each country.\n",
    "- The aggregate function for average is **AVG()**.  Use the name `avg_ed_spending_pct` for the column created by this aggregation.\n",
    "- Order the results so the countries that spend the largest fraction of GDP on education show up first.\n",
    "\n",
    "In case it's useful to see a sample query, here's a query you saw in the tutorial (using a different dataset):\n",
    "```\n",
    "# Query to find out the number of accidents for each day of the week\n",
    "query = \"\"\"\n",
    "        SELECT COUNT(consecutive_number) AS num_accidents, \n",
    "               EXTRACT(DAYOFWEEK FROM timestamp_of_crash) AS day_of_week\n",
    "        FROM `bigquery-public-data.nhtsa_traffic_fatalities.accident_2015`\n",
    "        GROUP BY day_of_week\n",
    "        ORDER BY num_accidents DESC\n",
    "        \"\"\"\n",
    "```"
   ]
  },
  {
   "cell_type": "code",
   "execution_count": 3,
   "id": "ee8b257a",
   "metadata": {
    "execution": {
     "iopub.execute_input": "2022-08-25T09:15:36.743115Z",
     "iopub.status.busy": "2022-08-25T09:15:36.742492Z",
     "iopub.status.idle": "2022-08-25T09:15:37.841795Z",
     "shell.execute_reply": "2022-08-25T09:15:37.840567Z"
    },
    "papermill": {
     "duration": 1.107509,
     "end_time": "2022-08-25T09:15:37.844146",
     "exception": false,
     "start_time": "2022-08-25T09:15:36.736637",
     "status": "completed"
    },
    "tags": []
   },
   "outputs": [
    {
     "name": "stderr",
     "output_type": "stream",
     "text": [
      "/opt/conda/lib/python3.7/site-packages/google/cloud/bigquery/client.py:440: UserWarning: Cannot create BigQuery Storage client, the dependency google-cloud-bigquery-storage is not installed.\n",
      "  \"Cannot create BigQuery Storage client, the dependency \"\n"
     ]
    },
    {
     "name": "stdout",
     "output_type": "stream",
     "text": [
      "            country_name  avg_ed_spending_pct\n",
      "0                   Cuba            12.837270\n",
      "1  Micronesia, Fed. Sts.            12.467750\n",
      "2        Solomon Islands            10.001080\n",
      "3                Moldova             8.372153\n",
      "4                Namibia             8.349610\n"
     ]
    },
    {
     "data": {
      "application/javascript": [
       "parent.postMessage({\"jupyterEvent\": \"custom.exercise_interaction\", \"data\": {\"outcomeType\": 1, \"valueTowardsCompletion\": 0.5, \"interactionType\": 1, \"questionType\": 2, \"questionId\": \"1_EducationSpending\", \"learnToolsVersion\": \"0.3.4\", \"failureMessage\": \"\", \"exceptionClass\": \"\", \"trace\": \"\"}}, \"*\")"
      ],
      "text/plain": [
       "<IPython.core.display.Javascript object>"
      ]
     },
     "metadata": {},
     "output_type": "display_data"
    },
    {
     "data": {
      "text/markdown": [
       "<span style=\"color:#33cc33\">Correct</span>"
      ],
      "text/plain": [
       "Correct"
      ]
     },
     "metadata": {},
     "output_type": "display_data"
    }
   ],
   "source": [
    "# Your code goes here\n",
    "country_spend_pct_query = \"\"\"\n",
    "                          SELECT country_name,AVG(value) as avg_ed_spending_pct\n",
    "                          FROM `bigquery-public-data.world_bank_intl_education.international_education`\n",
    "                          WHERE indicator_code = \"SE.XPD.TOTL.GD.ZS\" and year >=2010 and year <= 2017\n",
    "                          GROUP BY country_name\n",
    "                          ORDER BY avg_ed_spending_pct DESC\n",
    "                          \"\"\"\n",
    "\n",
    "# Set up the query (cancel the query if it would use too much of \n",
    "# your quota, with the limit set to 1 GB)\n",
    "safe_config = bigquery.QueryJobConfig(maximum_bytes_billed=10**10)\n",
    "country_spend_pct_query_job = client.query(country_spend_pct_query, job_config=safe_config)\n",
    "\n",
    "# API request - run the query, and return a pandas DataFrame\n",
    "country_spending_results = country_spend_pct_query_job.to_dataframe()\n",
    "\n",
    "# View top few rows of results\n",
    "print(country_spending_results.head())\n",
    "\n",
    "# Check your answer\n",
    "q_1.check()"
   ]
  },
  {
   "cell_type": "markdown",
   "id": "739aacd1",
   "metadata": {
    "papermill": {
     "duration": 0.004719,
     "end_time": "2022-08-25T09:15:37.854106",
     "exception": false,
     "start_time": "2022-08-25T09:15:37.849387",
     "status": "completed"
    },
    "tags": []
   },
   "source": [
    "For a hint or the solution, uncomment the appropriate line below."
   ]
  },
  {
   "cell_type": "code",
   "execution_count": 4,
   "id": "90b7aa83",
   "metadata": {
    "execution": {
     "iopub.execute_input": "2022-08-25T09:15:37.865894Z",
     "iopub.status.busy": "2022-08-25T09:15:37.865087Z",
     "iopub.status.idle": "2022-08-25T09:15:37.873305Z",
     "shell.execute_reply": "2022-08-25T09:15:37.872484Z"
    },
    "papermill": {
     "duration": 0.017027,
     "end_time": "2022-08-25T09:15:37.875908",
     "exception": false,
     "start_time": "2022-08-25T09:15:37.858881",
     "status": "completed"
    },
    "tags": []
   },
   "outputs": [
    {
     "data": {
      "application/javascript": [
       "parent.postMessage({\"jupyterEvent\": \"custom.exercise_interaction\", \"data\": {\"interactionType\": 3, \"questionType\": 2, \"questionId\": \"1_EducationSpending\", \"learnToolsVersion\": \"0.3.4\", \"valueTowardsCompletion\": 0.0, \"failureMessage\": \"\", \"exceptionClass\": \"\", \"trace\": \"\", \"outcomeType\": 4}}, \"*\")"
      ],
      "text/plain": [
       "<IPython.core.display.Javascript object>"
      ]
     },
     "metadata": {},
     "output_type": "display_data"
    },
    {
     "data": {
      "text/markdown": [
       "<span style=\"color:#33cc99\">Solution:</span> \n",
       "```python\n",
       "\n",
       "country_spend_pct_query = \"\"\"\n",
       "                          SELECT country_name, AVG(value) AS avg_ed_spending_pct\n",
       "                          FROM `bigquery-public-data.world_bank_intl_education.international_education`\n",
       "                          WHERE indicator_code = 'SE.XPD.TOTL.GD.ZS' and year >= 2010 and year <= 2017\n",
       "                          GROUP BY country_name\n",
       "                          ORDER BY avg_ed_spending_pct DESC\n",
       "                          \"\"\"\n",
       "\n",
       "\n",
       "```"
      ],
      "text/plain": [
       "Solution: \n",
       "```python\n",
       "\n",
       "country_spend_pct_query = \"\"\"\n",
       "                          SELECT country_name, AVG(value) AS avg_ed_spending_pct\n",
       "                          FROM `bigquery-public-data.world_bank_intl_education.international_education`\n",
       "                          WHERE indicator_code = 'SE.XPD.TOTL.GD.ZS' and year >= 2010 and year <= 2017\n",
       "                          GROUP BY country_name\n",
       "                          ORDER BY avg_ed_spending_pct DESC\n",
       "                          \"\"\"\n",
       "\n",
       "\n",
       "```"
      ]
     },
     "metadata": {},
     "output_type": "display_data"
    }
   ],
   "source": [
    "#q_1.hint()\n",
    "q_1.solution()"
   ]
  },
  {
   "cell_type": "markdown",
   "id": "16ff2865",
   "metadata": {
    "papermill": {
     "duration": 0.004905,
     "end_time": "2022-08-25T09:15:37.886189",
     "exception": false,
     "start_time": "2022-08-25T09:15:37.881284",
     "status": "completed"
    },
    "tags": []
   },
   "source": [
    "### 2) Identify interesting codes to explore\n",
    "\n",
    "The last question started by telling you to focus on rows with the code `SE.XPD.TOTL.GD.ZS`. But how would you find more interesting indicator codes to explore?\n",
    "\n",
    "There are 1000s of codes in the dataset, so it would be time consuming to review them all. But many codes are available for only a few countries. When browsing the options for different codes, you might restrict yourself to codes that are reported by many countries.\n",
    "\n",
    "Write a query below that selects the indicator code and indicator name for all codes with at least 175 rows in the year 2016.\n",
    "\n",
    "Requirements:\n",
    "- You should have one row for each indicator code.\n",
    "- The columns in your results should be called `indicator_code`, `indicator_name`, and `num_rows`.\n",
    "- Only select codes with 175 or more rows in the raw database (exactly 175 rows would be included).\n",
    "- To get both the `indicator_code` and `indicator_name` in your resulting DataFrame, you need to include both in your **SELECT** statement (in addition to a **COUNT()** aggregation). This requires you to include both in your **GROUP BY** clause.\n",
    "- Order from results most frequent to least frequent."
   ]
  },
  {
   "cell_type": "code",
   "execution_count": 5,
   "id": "48d7d196",
   "metadata": {
    "execution": {
     "iopub.execute_input": "2022-08-25T09:15:37.898682Z",
     "iopub.status.busy": "2022-08-25T09:15:37.897691Z",
     "iopub.status.idle": "2022-08-25T09:15:38.896091Z",
     "shell.execute_reply": "2022-08-25T09:15:38.894861Z"
    },
    "papermill": {
     "duration": 1.007235,
     "end_time": "2022-08-25T09:15:38.898405",
     "exception": false,
     "start_time": "2022-08-25T09:15:37.891170",
     "status": "completed"
    },
    "tags": []
   },
   "outputs": [
    {
     "name": "stderr",
     "output_type": "stream",
     "text": [
      "/opt/conda/lib/python3.7/site-packages/google/cloud/bigquery/client.py:440: UserWarning: Cannot create BigQuery Storage client, the dependency google-cloud-bigquery-storage is not installed.\n",
      "  \"Cannot create BigQuery Storage client, the dependency \"\n"
     ]
    },
    {
     "name": "stdout",
     "output_type": "stream",
     "text": [
      "                        indicator_name     indicator_code  num_rows\n",
      "0         Population growth (annual %)        SP.POP.GROW       232\n",
      "1                    Population, total        SP.POP.TOTL       232\n",
      "2      Internet users (per 100 people)     IT.NET.USER.P2       223\n",
      "3  Population, ages 15-64 (% of total)  SP.POP.1564.TO.ZS       213\n",
      "4  Mortality rate, under-5 (per 1,000)        SH.DYN.MORT       213\n"
     ]
    },
    {
     "data": {
      "application/javascript": [
       "parent.postMessage({\"jupyterEvent\": \"custom.exercise_interaction\", \"data\": {\"outcomeType\": 1, \"valueTowardsCompletion\": 0.5, \"interactionType\": 1, \"questionType\": 2, \"questionId\": \"2_FindInterestingCodes\", \"learnToolsVersion\": \"0.3.4\", \"failureMessage\": \"\", \"exceptionClass\": \"\", \"trace\": \"\"}}, \"*\")"
      ],
      "text/plain": [
       "<IPython.core.display.Javascript object>"
      ]
     },
     "metadata": {},
     "output_type": "display_data"
    },
    {
     "data": {
      "text/markdown": [
       "<span style=\"color:#33cc33\">Correct</span>"
      ],
      "text/plain": [
       "Correct"
      ]
     },
     "metadata": {},
     "output_type": "display_data"
    }
   ],
   "source": [
    "# Your code goes here\n",
    "code_count_query = \"\"\"SELECT indicator_name, indicator_code, COUNT(1) AS num_rows\n",
    "                    FROM `bigquery-public-data.world_bank_intl_education.international_education`\n",
    "                    WHERE year = 2016\n",
    "                    GROUP BY indicator_name, indicator_code\n",
    "                    HAVING COUNT(1) >= 175\n",
    "                    ORDER BY COUNT(1) DESC\n",
    "                    \"\"\"\n",
    "\n",
    "# Set up the query\n",
    "safe_config = bigquery.QueryJobConfig(maximum_bytes_billed=10**10)\n",
    "code_count_query_job = client.query(code_count_query, job_config=safe_config)\n",
    "\n",
    "# API request - run the query, and return a pandas DataFrame\n",
    "code_count_results = code_count_query_job.to_dataframe()\n",
    "\n",
    "# View top few rows of results\n",
    "print(code_count_results.head())\n",
    "\n",
    "# Check your answer\n",
    "q_2.check()"
   ]
  },
  {
   "cell_type": "markdown",
   "id": "f31e4a41",
   "metadata": {
    "papermill": {
     "duration": 0.005474,
     "end_time": "2022-08-25T09:15:38.909734",
     "exception": false,
     "start_time": "2022-08-25T09:15:38.904260",
     "status": "completed"
    },
    "tags": []
   },
   "source": [
    "For a hint or the solution, uncomment the appropriate line below."
   ]
  },
  {
   "cell_type": "code",
   "execution_count": 6,
   "id": "99a3bb1f",
   "metadata": {
    "execution": {
     "iopub.execute_input": "2022-08-25T09:15:38.923064Z",
     "iopub.status.busy": "2022-08-25T09:15:38.922651Z",
     "iopub.status.idle": "2022-08-25T09:15:38.933229Z",
     "shell.execute_reply": "2022-08-25T09:15:38.932375Z"
    },
    "papermill": {
     "duration": 0.020084,
     "end_time": "2022-08-25T09:15:38.935407",
     "exception": false,
     "start_time": "2022-08-25T09:15:38.915323",
     "status": "completed"
    },
    "tags": []
   },
   "outputs": [
    {
     "data": {
      "application/javascript": [
       "parent.postMessage({\"jupyterEvent\": \"custom.exercise_interaction\", \"data\": {\"interactionType\": 2, \"questionType\": 2, \"questionId\": \"2_FindInterestingCodes\", \"learnToolsVersion\": \"0.3.4\", \"valueTowardsCompletion\": 0.0, \"failureMessage\": \"\", \"exceptionClass\": \"\", \"trace\": \"\", \"outcomeType\": 4}}, \"*\")"
      ],
      "text/plain": [
       "<IPython.core.display.Javascript object>"
      ]
     },
     "metadata": {},
     "output_type": "display_data"
    },
    {
     "data": {
      "text/markdown": [
       "<span style=\"color:#3366cc\">Hint:</span> The part before `FROM` is `SELECT indicator_code, indicator_name, COUNT(1) AS num_rows`."
      ],
      "text/plain": [
       "Hint: The part before `FROM` is `SELECT indicator_code, indicator_name, COUNT(1) AS num_rows`."
      ]
     },
     "metadata": {},
     "output_type": "display_data"
    },
    {
     "data": {
      "application/javascript": [
       "parent.postMessage({\"jupyterEvent\": \"custom.exercise_interaction\", \"data\": {\"interactionType\": 3, \"questionType\": 2, \"questionId\": \"2_FindInterestingCodes\", \"learnToolsVersion\": \"0.3.4\", \"valueTowardsCompletion\": 0.0, \"failureMessage\": \"\", \"exceptionClass\": \"\", \"trace\": \"\", \"outcomeType\": 4}}, \"*\")"
      ],
      "text/plain": [
       "<IPython.core.display.Javascript object>"
      ]
     },
     "metadata": {},
     "output_type": "display_data"
    },
    {
     "data": {
      "text/markdown": [
       "<span style=\"color:#33cc99\">Solution:</span> \n",
       "```python\n",
       "\n",
       "code_count_query = \"\"\"\n",
       "                   SELECT indicator_code, indicator_name, COUNT(1) AS num_rows\n",
       "                   FROM `bigquery-public-data.world_bank_intl_education.international_education`\n",
       "                   WHERE year = 2016\n",
       "                   GROUP BY indicator_name, indicator_code\n",
       "                   HAVING COUNT(1) >= 175\n",
       "                   ORDER BY COUNT(1) DESC\n",
       "                   \"\"\"\n",
       "\n",
       "```"
      ],
      "text/plain": [
       "Solution: \n",
       "```python\n",
       "\n",
       "code_count_query = \"\"\"\n",
       "                   SELECT indicator_code, indicator_name, COUNT(1) AS num_rows\n",
       "                   FROM `bigquery-public-data.world_bank_intl_education.international_education`\n",
       "                   WHERE year = 2016\n",
       "                   GROUP BY indicator_name, indicator_code\n",
       "                   HAVING COUNT(1) >= 175\n",
       "                   ORDER BY COUNT(1) DESC\n",
       "                   \"\"\"\n",
       "\n",
       "```"
      ]
     },
     "metadata": {},
     "output_type": "display_data"
    }
   ],
   "source": [
    "q_2.hint()\n",
    "q_2.solution()"
   ]
  },
  {
   "cell_type": "markdown",
   "id": "bde14f78",
   "metadata": {
    "papermill": {
     "duration": 0.006235,
     "end_time": "2022-08-25T09:15:38.948324",
     "exception": false,
     "start_time": "2022-08-25T09:15:38.942089",
     "status": "completed"
    },
    "tags": []
   },
   "source": [
    "# Keep Going\n",
    "**[Click here](https://www.kaggle.com/dansbecker/as-with)** to learn how to use **AS** and **WITH** to clean up your code and help you construct more complex queries."
   ]
  },
  {
   "cell_type": "markdown",
   "id": "880c8547",
   "metadata": {
    "papermill": {
     "duration": 0.006105,
     "end_time": "2022-08-25T09:15:38.960446",
     "exception": false,
     "start_time": "2022-08-25T09:15:38.954341",
     "status": "completed"
    },
    "tags": []
   },
   "source": [
    "---\n",
    "\n",
    "\n",
    "\n",
    "\n",
    "*Have questions or comments? Visit the [course discussion forum](https://www.kaggle.com/learn/intro-to-sql/discussion) to chat with other learners.*"
   ]
  }
 ],
 "metadata": {
  "kernelspec": {
   "display_name": "Python 3",
   "language": "python",
   "name": "python3"
  },
  "language_info": {
   "codemirror_mode": {
    "name": "ipython",
    "version": 3
   },
   "file_extension": ".py",
   "mimetype": "text/x-python",
   "name": "python",
   "nbconvert_exporter": "python",
   "pygments_lexer": "ipython3",
   "version": "3.7.12"
  },
  "papermill": {
   "default_parameters": {},
   "duration": 47.143496,
   "end_time": "2022-08-25T09:15:39.690147",
   "environment_variables": {},
   "exception": null,
   "input_path": "__notebook__.ipynb",
   "output_path": "__notebook__.ipynb",
   "parameters": {},
   "start_time": "2022-08-25T09:14:52.546651",
   "version": "2.3.4"
  }
 },
 "nbformat": 4,
 "nbformat_minor": 5
}
